{
 "cells": [
  {
   "cell_type": "markdown",
   "id": "48b3f54c-3ed1-407e-ab25-5fbf84acdc1b",
   "metadata": {},
   "source": [
    "__DSCB230 Sommersemster 2022__\n",
    "# Hausarbeit - Datenauswertung am Beispiel _eines Business-Anwendungsfalls_"
   ]
  },
  {
   "cell_type": "markdown",
   "id": "bf37b86b-b9d7-4081-a53a-afa65ac560d3",
   "metadata": {},
   "source": [
    "Gruppe | Studierende 1 | Studierende 2 | Studierende 3 | Studierende 4 |\n",
    "------ | ------ | ------ | ------ | ------ |\n",
    "`Alpha` | `Vorname Name` | `Vorname Name` | `Vorname Name` | `Vorname Name` |"
   ]
  },
  {
   "cell_type": "markdown",
   "id": "d486d432-bd92-485e-8f25-9d6f19208480",
   "metadata": {},
   "source": [
    "## Lernziele\n",
    "1. Einblick in die Arbeitsweise agiler Projekte\n",
    "2. Erfahrungen in der arbeitsteiligen Gruppenarbeit\n",
    "3. Erheben und Realisieren von Anforderungen\n",
    "4. Durchführen einer Datenauswertung\n",
    "5. Präsentieren der Ergebnisse vor einer Gruppe"
   ]
  },
  {
   "cell_type": "markdown",
   "id": "28da700c-e714-447a-933a-1c67c1e4d169",
   "metadata": {},
   "source": [
    "## Lehrinhalte\n",
    "1. Den Business Case finden\n",
    "2. Datenerfassung und Data Engineering\n",
    "3. Datenmodellierung"
   ]
  },
  {
   "cell_type": "markdown",
   "id": "68929315-1123-471b-80ac-55dbe38d4575",
   "metadata": {},
   "source": [
    "## Ablauf\n",
    "- [ ] Gruppeneinteilung [Weblink](https://bwsyncandshare.kit.edu/s/3Tom6MQMSzNX4SF)\n",
    "- [ ] Kick-off\n",
    "- [ ] Statusmeetings 1-3\n",
    "- [ ] Präsentation, Lessons Learned, Abgabe [ILIAS](https://ilias.h-ka.de/goto.php?target=exc_561643&client_id=HSKA) "
   ]
  },
  {
   "cell_type": "markdown",
   "id": "08a5d9d6-5ea3-4534-ac7f-418ca3dbbf6e",
   "metadata": {},
   "source": [
    "### Kick-off (Projekt-Start)\n",
    "\n",
    "Ziele: Lernziele besprechen. Erwartungen klarstellen. Durchführung besprechen."
   ]
  },
  {
   "cell_type": "markdown",
   "id": "99ac9d8d-cd6f-4e4e-aaf7-3c7bc5d5dd38",
   "metadata": {},
   "source": [
    "### Statusmeetings (Sprint-Reviews)\n",
    "\n",
    "Ziel: Es geht hauptsächlich um die Art und Weise der Zusammenarbeit, um Herausforderungen und Verbesserungsmöglichkeiten.\n",
    "\n",
    "__Leitfragen:__\n",
    "- Dinge, die gut gelungen sind.\n",
    "- Dinge, die weniger gut gelaufen sind.\n",
    "- Dinge, die man direkt stoppen sollte.\n",
    "- Aspekte, die man ausprobieren könnte."
   ]
  },
  {
   "cell_type": "markdown",
   "id": "0ddc70c6-3c59-425f-8263-79ca535a1962",
   "metadata": {},
   "source": [
    "### Lessons Learned (Projekt-Review)\n",
    "\n",
    "Ziele: Gewonnene Erkenntnisse für die Beurteilung der Arbeitsergebnisse festhalten.\n",
    "\n",
    "Vorbereitung: Die Gruppe setzt sich zusammen, um wertvolle Erfahrungen zu identifizieren, sie zu analysieren und aus ihnen zu lernen.\n",
    "\n",
    "__Leitfragen:__\n",
    "- Was waren die angenehmsten Dinge?\n",
    "- Welches Problem bzw. welche Probleme sind aufgetreten?\n",
    "- Wie wurde mit Problemen und Unklarheiten umgegangen?\n",
    "- Welche Lösung wurde verwendet?\n",
    "- Welche Probleme konnten, nach eigenem Ermessen, besonders gut gelöst werden?\n",
    "- Welche Ergebnisse der Datenauswertung waren überraschend?\n",
    "- Welche Erkenntnisse konnten durch die Datenauswertung gewonnen werden?\n",
    "- Welche ihrer Erwartungen an die Erkenntnisse der Datenauswertung weichen ab?\n",
    "- Wie bewerten Sie selbst ihre Ergebnisse?\n",
    "- Welche Erwartung an die Hausarbeit wurde nicht erfüllt?"
   ]
  },
  {
   "cell_type": "markdown",
   "id": "a0786cf7-b241-4f10-a7af-08eb0a07b7f7",
   "metadata": {},
   "source": [
    "## Aufgabenstellung\n",
    "\n",
    "- Führen Sie eine Datenauswertung durch.\n",
    "- Orientieren Sie sich am vereinfachten Beispiel aus der Vorlesung.\n",
    "- Dokumentieren Sie Ihre Arbeit in diesem Dokument.\n",
    "- Verwenden Sie die [Markdown](https://www.markdownguide.org/cheat-sheet/)-Syntax um Ihre Arbeit leserlich zu gestalten."
   ]
  },
  {
   "cell_type": "markdown",
   "id": "54d1fd8f-461e-4d1a-bcee-c81d92ed488e",
   "metadata": {},
   "source": [
    "## Abschlusspräsentation\n",
    "\n",
    "- Termine: siehe Gruppeneinteilung [Weblink](https://bwsyncandshare.kit.edu/s/3Tom6MQMSzNX4SF)\n",
    "- Dauer: ca. 15 min\n",
    "- Ablauf:\n",
    "    - Gruppe präsentiert ihre Datenauswertung vor anderen Kommilitonen\n",
    "    - Wiedergabe der vorbereiteten Lessons Learned\n",
    "    - Upload aller Dokumete in ILIAS als Zip-Archiv  `DSCB230_SS22_Gruppenname.zip`\n"
   ]
  },
  {
   "cell_type": "markdown",
   "id": "17e6b63f-2f04-4b47-bd44-dd5ea2832fd8",
   "metadata": {},
   "source": [
    "## Bewertung\n",
    "\n",
    "Maximal 4,5 Punkte (5% der Klausurpunkte) als Startwert für die Klausur. Die Punkte erhalten alle Gruppenmitglieder. Sollte eine differenzierte Bewertung gewünscht sein, sprechen Sie bitte den Dozent an."
   ]
  },
  {
   "cell_type": "markdown",
   "id": "e7c74b74",
   "metadata": {},
   "source": [
    "## Lehrinhalt"
   ]
  },
  {
   "cell_type": "markdown",
   "id": "0fb6a7b4",
   "metadata": {},
   "source": [
    "#### Was stellen unsere Daten überhaupt da? / Worüber handeln sie?\n",
    "In dem bekannten Computerspiel [CS-GO](https://de.wikipedia.org/wiki/Counter-Strike:_Global_Offensive) gibt es die Möglichkeit verschiedene *Skins* also Tarnungen für in dem Spiel vorhandenen Gegenstände durch verschiedene Arten mit Echtgeld zu erwerben (Kisten, Tausch oder Kauf). Die Arten spielen zu Erklärung jedoch keine Rolle es ist nur wichtig zu wissen, dass man Skins für Echtgeld erwerben kann und diese auf digitalen Märkten gehandelt werden, wobei es sich um Preise von ein paar Cent bis sechstellige Beträge handeln kann.\n",
    "\n",
    "Nun bieten Drittanbieter wie <https://app.lootbear.com/> an diese Skins leihen bzw. verleihen zu können, also nur Besitzer, nicht Eigentümer eines Skins zu werden. Das Leihen funktioniert dabei über ein Abo-System vergleichbar zu Netflix, also man muss ein Abonnement auf der Website haben um Skins leihen bzw. verleihen zu können wobei nochmal zwischen zwei Abo-Stufen unterschieden wird die erste ermöglicht es einem Skins bis zu einem Wert von 400 € zu leihen und die zweite auch teurer. Skins werden aufgrund zeitlicher Begrenzungen zum Tauschen im Spiel direkt immer für eine Woche verliehen, der Umsatz, der für die Vermieter entsteht, wird jedoch in den Daten täglich gezeigt. \n",
    "\n",
    "\n",
    "Daher kommen auch unsere Daten, Tim vermietet schon seit über einem Jahr Skins über eine Website, diese Website ermöglicht es auch Daten über die vermieteten Skins einzusehen wie Datum und Umsatz. Da Tim nachvollziehbarerweise diesen Prozess optimieren will, kamen wir auf die Idee dies zu unserem Projekt gemacht."
   ]
  },
  {
   "cell_type": "markdown",
   "id": "a1b94492",
   "metadata": {},
   "source": [
    "### Der Business Case"
   ]
  },
  {
   "cell_type": "markdown",
   "id": "d94faa02",
   "metadata": {},
   "source": [
    "#### Gewinnsteigerung \n",
    "- Welches Item rentiert sich am meisten bzw.\n",
    "- Welches Item hat die geringste Amortisationszeit (refenanzierung) unter/über 400€?\n",
    "- Welche 5-10 Items erziehlen den höchsten Umsatz innerhalb eines Quartals?\n",
    "\n"
   ]
  },
  {
   "cell_type": "markdown",
   "id": "3111b843",
   "metadata": {},
   "source": [
    "### Statusmeetings (Sprint-Reviews)\n",
    "- Kordinierung zu Dritt ist nicht so einfach \n",
    "- Wie man die Daten am besten darstellt ist komplizierter als Gedacht\n",
    "- Viele Ideen die man noch Aussortieren muss \n",
    "\n",
    "\n",
    "- Manche Werte sind schwer einzukalkulieren wie möglicher Verkaufswert nach \"misslungenem\" Verleih (Annahme zu einem bestimmten Prozentsatz(a) kriegt man einen bestimmten Prozentsatz(b) des Kaufwertes wieder zurück, wobei a und b von vielen Verschiedenen Faktoren abhängig sind) \n",
    "- Werte von digitalen Gegenständen sind an sich schwer zu bemessen, da es rein von der Nachfrage bzw. den Nachfragern und ihrer Kaufwilligkeit abhängig ist gepaart mit der Seltenheit\n",
    "    1. Beispiel: Ist ein Skin wenn eine Person für ihn 1000€ bezahlt auch 1000€ Wert. Für diese Person ja aber für andere Personen nicht unbedingt. Bei Nachfrage durch mehrere Personen entsteht ein Marktwert an dem wir uns immer Orientieren werden, aber theorethisch müsste man je nach eigenem Wert des Items kalkulieren, da wenn man den Skin in der Zukunft für sich behalten möchte alle Erlöse durch Verleih reine Gewinne wären, weil kein Verbrauch stattfindet und somit das Item in seinem individuellen nichts verloren hat unabhängig vom Marktwert. \n"
   ]
  },
  {
   "cell_type": "markdown",
   "id": "39fe6d05",
   "metadata": {},
   "source": [
    "### Datenerfassung und Data Engineering"
   ]
  },
  {
   "cell_type": "code",
   "execution_count": 3,
   "id": "1470ab65",
   "metadata": {},
   "outputs": [
    {
     "data": {
      "text/html": [
       "<div>\n",
       "<style scoped>\n",
       "    .dataframe tbody tr th:only-of-type {\n",
       "        vertical-align: middle;\n",
       "    }\n",
       "\n",
       "    .dataframe tbody tr th {\n",
       "        vertical-align: top;\n",
       "    }\n",
       "\n",
       "    .dataframe thead th {\n",
       "        text-align: right;\n",
       "    }\n",
       "</style>\n",
       "<table border=\"1\" class=\"dataframe\">\n",
       "  <thead>\n",
       "    <tr style=\"text-align: right;\">\n",
       "      <th></th>\n",
       "      <th>Item</th>\n",
       "      <th>Preis</th>\n",
       "      <th>Datum</th>\n",
       "      <th>Unnamed: 3</th>\n",
       "      <th>verkauft</th>\n",
       "    </tr>\n",
       "  </thead>\n",
       "  <tbody>\n",
       "    <tr>\n",
       "      <th>0</th>\n",
       "      <td>★ Stiletto Knife | Doppler (Factory New)</td>\n",
       "      <td>240</td>\n",
       "      <td>NaT</td>\n",
       "      <td>steam</td>\n",
       "      <td>-</td>\n",
       "    </tr>\n",
       "    <tr>\n",
       "      <th>1</th>\n",
       "      <td>★ Karambit | Gamma Doppler (Factory New)</td>\n",
       "      <td>600</td>\n",
       "      <td>2021-06-14</td>\n",
       "      <td>steam</td>\n",
       "      <td>-</td>\n",
       "    </tr>\n",
       "    <tr>\n",
       "      <th>2</th>\n",
       "      <td>★ Karambit | Lore (Field-Tested)</td>\n",
       "      <td>400</td>\n",
       "      <td>2021-03-07</td>\n",
       "      <td>trade</td>\n",
       "      <td>-</td>\n",
       "    </tr>\n",
       "    <tr>\n",
       "      <th>3</th>\n",
       "      <td>★ StatTrak™ Karambit | Lore (Field-Tested)</td>\n",
       "      <td>441</td>\n",
       "      <td>2021-07-02</td>\n",
       "      <td>NaN</td>\n",
       "      <td>-</td>\n",
       "    </tr>\n",
       "    <tr>\n",
       "      <th>4</th>\n",
       "      <td>★ M9 Bayonet | Lore (Field-Tested)</td>\n",
       "      <td>462</td>\n",
       "      <td>2021-09-17</td>\n",
       "      <td>NaN</td>\n",
       "      <td>-</td>\n",
       "    </tr>\n",
       "    <tr>\n",
       "      <th>5</th>\n",
       "      <td>★ M9 Bayonet | Lore (Field-Tested)</td>\n",
       "      <td>438</td>\n",
       "      <td>2021-10-03</td>\n",
       "      <td>NaN</td>\n",
       "      <td>2022-02-13 00:00:00</td>\n",
       "    </tr>\n",
       "    <tr>\n",
       "      <th>6</th>\n",
       "      <td>★ Karambit | Autotronic (Field-Tested)</td>\n",
       "      <td>442</td>\n",
       "      <td>2021-07-16</td>\n",
       "      <td>NaN</td>\n",
       "      <td>-</td>\n",
       "    </tr>\n",
       "    <tr>\n",
       "      <th>7</th>\n",
       "      <td>★ M9 Bayonet | Damascus Steel (Field-Tested)</td>\n",
       "      <td>193</td>\n",
       "      <td>2021-04-05</td>\n",
       "      <td>NaN</td>\n",
       "      <td>2022-04-17 00:00:00</td>\n",
       "    </tr>\n",
       "    <tr>\n",
       "      <th>8</th>\n",
       "      <td>★ Skeleton Knife | Slaughter (Minimal Wear)</td>\n",
       "      <td>570</td>\n",
       "      <td>2021-01-02</td>\n",
       "      <td>NaN</td>\n",
       "      <td>-</td>\n",
       "    </tr>\n",
       "    <tr>\n",
       "      <th>9</th>\n",
       "      <td>★ Skeleton Knife | Slaughter (Minimal Wear)</td>\n",
       "      <td>520</td>\n",
       "      <td>2022-01-04</td>\n",
       "      <td>NaN</td>\n",
       "      <td>-</td>\n",
       "    </tr>\n",
       "    <tr>\n",
       "      <th>10</th>\n",
       "      <td>★ Karambit | Forest DDPAT (Field-Tested)</td>\n",
       "      <td>193</td>\n",
       "      <td>2021-08-15</td>\n",
       "      <td>NaN</td>\n",
       "      <td>-</td>\n",
       "    </tr>\n",
       "    <tr>\n",
       "      <th>11</th>\n",
       "      <td>★ Bayonet | Freehand (Field-Tested)</td>\n",
       "      <td>168</td>\n",
       "      <td>2021-04-17</td>\n",
       "      <td>NaN</td>\n",
       "      <td>-</td>\n",
       "    </tr>\n",
       "    <tr>\n",
       "      <th>12</th>\n",
       "      <td>★ Karambit | Urban Masked (Field-Tested)</td>\n",
       "      <td>193</td>\n",
       "      <td>2021-08-15</td>\n",
       "      <td>NaN</td>\n",
       "      <td>-</td>\n",
       "    </tr>\n",
       "    <tr>\n",
       "      <th>13</th>\n",
       "      <td>★ Karambit | Boreal Forest (Field-Tested)</td>\n",
       "      <td>195</td>\n",
       "      <td>2021-07-17</td>\n",
       "      <td>trade</td>\n",
       "      <td>2022-04-17 00:00:00</td>\n",
       "    </tr>\n",
       "    <tr>\n",
       "      <th>14</th>\n",
       "      <td>★ Talon Knife | Damascus Steel (Minimal Wear)</td>\n",
       "      <td>210</td>\n",
       "      <td>2021-06-17</td>\n",
       "      <td>NaN</td>\n",
       "      <td>2022-02-23 00:00:00</td>\n",
       "    </tr>\n",
       "    <tr>\n",
       "      <th>15</th>\n",
       "      <td>★ Bayonet | Black Laminate (Minimal Wear)</td>\n",
       "      <td>210</td>\n",
       "      <td>2021-09-11</td>\n",
       "      <td>steam</td>\n",
       "      <td>-</td>\n",
       "    </tr>\n",
       "    <tr>\n",
       "      <th>16</th>\n",
       "      <td>★ Talon Knife | Stained (Minimal Wear)</td>\n",
       "      <td>190</td>\n",
       "      <td>2021-09-18</td>\n",
       "      <td>steam</td>\n",
       "      <td>-</td>\n",
       "    </tr>\n",
       "    <tr>\n",
       "      <th>17</th>\n",
       "      <td>★ Talon Knife | Blue Steel (Minimal Wear)</td>\n",
       "      <td>220</td>\n",
       "      <td>2021-08-15</td>\n",
       "      <td>steam</td>\n",
       "      <td>2022-02-22 00:00:00</td>\n",
       "    </tr>\n",
       "    <tr>\n",
       "      <th>18</th>\n",
       "      <td>★ StatTrak™ M9 Bayonet | Stained (Minimal Wear)</td>\n",
       "      <td>199</td>\n",
       "      <td>2021-10-01</td>\n",
       "      <td>NaN</td>\n",
       "      <td>-</td>\n",
       "    </tr>\n",
       "    <tr>\n",
       "      <th>19</th>\n",
       "      <td>★ Karambit | Scorched (Minimal Wear)</td>\n",
       "      <td>177</td>\n",
       "      <td>2021-09-25</td>\n",
       "      <td>NaN</td>\n",
       "      <td>2022-04-17 00:00:00</td>\n",
       "    </tr>\n",
       "    <tr>\n",
       "      <th>20</th>\n",
       "      <td>★ Skeleton Knife | Urban Masked (Field-Tested)</td>\n",
       "      <td>182</td>\n",
       "      <td>2021-09-11</td>\n",
       "      <td>NaN</td>\n",
       "      <td>-</td>\n",
       "    </tr>\n",
       "    <tr>\n",
       "      <th>21</th>\n",
       "      <td>★ Skeleton Knife | Forest DDPAT (Minimal Wear)</td>\n",
       "      <td>194</td>\n",
       "      <td>2021-09-11</td>\n",
       "      <td>NaN</td>\n",
       "      <td>-</td>\n",
       "    </tr>\n",
       "    <tr>\n",
       "      <th>22</th>\n",
       "      <td>AWP | Containment Breach (Field-Tested)</td>\n",
       "      <td>45</td>\n",
       "      <td>NaT</td>\n",
       "      <td>NaN</td>\n",
       "      <td>-</td>\n",
       "    </tr>\n",
       "    <tr>\n",
       "      <th>23</th>\n",
       "      <td>★ Talon Knife | Marble Fade (Factory New)</td>\n",
       "      <td>450</td>\n",
       "      <td>2021-06-26</td>\n",
       "      <td>NaN</td>\n",
       "      <td>2021-09-03 00:00:00</td>\n",
       "    </tr>\n",
       "    <tr>\n",
       "      <th>24</th>\n",
       "      <td>★ Huntsman Knife | Marble Fade (Factory New)</td>\n",
       "      <td>200</td>\n",
       "      <td>2021-03-07</td>\n",
       "      <td>trade</td>\n",
       "      <td>2021-06-08 00:00:00</td>\n",
       "    </tr>\n",
       "  </tbody>\n",
       "</table>\n",
       "</div>"
      ],
      "text/plain": [
       "                                               Item  Preis      Datum  \\\n",
       "0          ★ Stiletto Knife | Doppler (Factory New)    240        NaT   \n",
       "1          ★ Karambit | Gamma Doppler (Factory New)    600 2021-06-14   \n",
       "2                  ★ Karambit | Lore (Field-Tested)    400 2021-03-07   \n",
       "3        ★ StatTrak™ Karambit | Lore (Field-Tested)    441 2021-07-02   \n",
       "4                ★ M9 Bayonet | Lore (Field-Tested)    462 2021-09-17   \n",
       "5                ★ M9 Bayonet | Lore (Field-Tested)    438 2021-10-03   \n",
       "6           ★ Karambit | Autotronic (Field-Tested)     442 2021-07-16   \n",
       "7      ★ M9 Bayonet | Damascus Steel (Field-Tested)    193 2021-04-05   \n",
       "8       ★ Skeleton Knife | Slaughter (Minimal Wear)    570 2021-01-02   \n",
       "9       ★ Skeleton Knife | Slaughter (Minimal Wear)    520 2022-01-04   \n",
       "10         ★ Karambit | Forest DDPAT (Field-Tested)    193 2021-08-15   \n",
       "11              ★ Bayonet | Freehand (Field-Tested)    168 2021-04-17   \n",
       "12         ★ Karambit | Urban Masked (Field-Tested)    193 2021-08-15   \n",
       "13        ★ Karambit | Boreal Forest (Field-Tested)    195 2021-07-17   \n",
       "14    ★ Talon Knife | Damascus Steel (Minimal Wear)    210 2021-06-17   \n",
       "15        ★ Bayonet | Black Laminate (Minimal Wear)    210 2021-09-11   \n",
       "16           ★ Talon Knife | Stained (Minimal Wear)    190 2021-09-18   \n",
       "17        ★ Talon Knife | Blue Steel (Minimal Wear)    220 2021-08-15   \n",
       "18  ★ StatTrak™ M9 Bayonet | Stained (Minimal Wear)    199 2021-10-01   \n",
       "19             ★ Karambit | Scorched (Minimal Wear)    177 2021-09-25   \n",
       "20   ★ Skeleton Knife | Urban Masked (Field-Tested)    182 2021-09-11   \n",
       "21   ★ Skeleton Knife | Forest DDPAT (Minimal Wear)    194 2021-09-11   \n",
       "22          AWP | Containment Breach (Field-Tested)     45        NaT   \n",
       "23        ★ Talon Knife | Marble Fade (Factory New)    450 2021-06-26   \n",
       "24     ★ Huntsman Knife | Marble Fade (Factory New)    200 2021-03-07   \n",
       "\n",
       "   Unnamed: 3             verkauft  \n",
       "0       steam                    -  \n",
       "1       steam                    -  \n",
       "2       trade                    -  \n",
       "3         NaN                    -  \n",
       "4         NaN                    -  \n",
       "5         NaN  2022-02-13 00:00:00  \n",
       "6         NaN                    -  \n",
       "7         NaN  2022-04-17 00:00:00  \n",
       "8         NaN                    -  \n",
       "9         NaN                    -  \n",
       "10        NaN                    -  \n",
       "11        NaN                    -  \n",
       "12        NaN                    -  \n",
       "13      trade  2022-04-17 00:00:00  \n",
       "14        NaN  2022-02-23 00:00:00  \n",
       "15      steam                    -  \n",
       "16      steam                    -  \n",
       "17      steam  2022-02-22 00:00:00  \n",
       "18        NaN                    -  \n",
       "19        NaN  2022-04-17 00:00:00  \n",
       "20        NaN                    -  \n",
       "21        NaN                    -  \n",
       "22        NaN                    -  \n",
       "23        NaN  2021-09-03 00:00:00  \n",
       "24      trade  2021-06-08 00:00:00  "
      ]
     },
     "execution_count": 3,
     "metadata": {},
     "output_type": "execute_result"
    }
   ],
   "source": [
    "import pandas as pd\n",
    "\n",
    "df = pd.read_csv(\"rent_revenue_data.csv\")\n",
    "df[df[\"Item\"] == \"★ Bayonet | Freehand (Field-Tested)\"].sum()\n",
    "df.to_excel(\"rent_revenue_data_excel.xlsx\")\n",
    " \n",
    "xf = pd.read_excel(\"Einkaufspreise_new.xlsx\")\n",
    "xf\n"
   ]
  },
  {
   "cell_type": "code",
   "execution_count": 7,
   "id": "89683fed",
   "metadata": {},
   "outputs": [
    {
     "data": {
      "text/plain": [
       "Item\n",
       "★ Karambit | Gamma Doppler (Factory New)           220.73\n",
       "★ Karambit | Lore (Field-Tested)                   114.35\n",
       "★ Stiletto Knife | Doppler (Factory New)            98.07\n",
       "★ StatTrak™ Karambit | Lore (Field-Tested)          97.42\n",
       "★ M9 Bayonet | Lore (Field-Tested)                  94.30\n",
       "★ Skeleton Knife | Slaughter (Minimal Wear)         88.31\n",
       "★ Karambit | Autotronic (Field-Tested)              74.93\n",
       "★ M9 Bayonet | Damascus Steel (Field-Tested)        53.93\n",
       "★ Karambit | Forest DDPAT (Field-Tested)            37.73\n",
       "★ Bayonet | Freehand (Field-Tested)                 37.21\n",
       "★ Karambit | Urban Masked (Field-Tested)            33.84\n",
       "★ StatTrak™ M9 Bayonet | Stained (Minimal Wear)     33.54\n",
       "★ Karambit | Boreal Forest (Field-Tested)           33.13\n",
       "★ Talon Knife | Damascus Steel (Minimal Wear)       32.80\n",
       "★ Bayonet | Black Laminate (Minimal Wear)           31.14\n",
       "★ Skeleton Knife | Urban Masked (Field-Tested)      30.14\n",
       "★ Skeleton Knife | Forest DDPAT (Minimal Wear)      29.13\n",
       "★ Talon Knife | Stained (Minimal Wear)              25.14\n",
       "★ Talon Knife | Blue Steel (Minimal Wear)           25.07\n",
       "★ Karambit | Scorched (Minimal Wear)                24.09\n",
       "Name: Revenue, dtype: float64"
      ]
     },
     "execution_count": 7,
     "metadata": {},
     "output_type": "execute_result"
    }
   ],
   "source": [
    "summe = df.groupby([\"Item\"]).sum()\n",
    "revenue_sum = summe[\"Revenue\"].sort_values(ascending=False).head(20) \n",
    "revenue_sum"
   ]
  },
  {
   "cell_type": "code",
   "execution_count": 8,
   "id": "e7613a56",
   "metadata": {},
   "outputs": [
    {
     "name": "stderr",
     "output_type": "stream",
     "text": [
      "c:\\Users\\yanni\\anaconda3\\envs\\DSC\\lib\\site-packages\\seaborn\\_decorators.py:36: FutureWarning: Pass the following variable as a keyword arg: x. From version 0.12, the only valid positional argument will be `data`, and passing other arguments without an explicit keyword will result in an error or misinterpretation.\n",
      "  warnings.warn(\n"
     ]
    },
    {
     "data": {
      "text/plain": [
       "<AxesSubplot:xlabel='Revenue'>"
      ]
     },
     "execution_count": 8,
     "metadata": {},
     "output_type": "execute_result"
    },
    {
     "data": {
      "image/png": "[encoded data removed]",
      "text/plain": [
       "<Figure size 432x288 with 1 Axes>"
      ]
     },
     "metadata": {
      "needs_background": "light"
     },
     "output_type": "display_data"
    }
   ],
   "source": [
    "import seaborn as sns \n",
    "sns.barplot(revenue_sum)"
   ]
  }
 ],
 "metadata": {
  "interpreter": {
   "hash": "dcae1c5eebbeb26e8adbd1f1df404ff210629e5ad8dae11eceb6593fa9fa15c8"
  },
  "kernelspec": {
   "display_name": "Python 3.9.7 ('DSC')",
   "language": "python",
   "name": "python3"
  },
  "language_info": {
   "codemirror_mode": {
    "name": "ipython",
    "version": 3
   },
   "file_extension": ".py",
   "mimetype": "text/x-python",
   "name": "python",
   "nbconvert_exporter": "python",
   "pygments_lexer": "ipython3",
   "version": "3.9.7"
  },
  "toc-autonumbering": false,
  "toc-showmarkdowntxt": false
 },
 "nbformat": 4,
 "nbformat_minor": 5
}
