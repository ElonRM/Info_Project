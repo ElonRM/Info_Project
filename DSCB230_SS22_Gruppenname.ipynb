{
 "cells": [
  {
   "cell_type": "markdown",
   "id": "48b3f54c-3ed1-407e-ab25-5fbf84acdc1b",
   "metadata": {},
   "source": [
    "__DSCB230 Sommersemster 2022__\n",
    "# Hausarbeit - Datenauswertung am Beispiel _eines Business-Anwendungsfalls_"
   ]
  },
  {
   "cell_type": "markdown",
   "id": "bf37b86b-b9d7-4081-a53a-afa65ac560d3",
   "metadata": {},
   "source": [
    "Gruppe | Studierende 1 | Studierende 2 | Studierende 3 | Studierende 4 |\n",
    "------ | ------ | ------ | ------ | ------ |\n",
    "`Alpha` | `Vorname Name` | `Vorname Name` | `Vorname Name` | `Vorname Name` |"
   ]
  },
  {
   "cell_type": "markdown",
   "id": "d486d432-bd92-485e-8f25-9d6f19208480",
   "metadata": {},
   "source": [
    "## Lernziele\n",
    "1. Einblick in die Arbeitsweise agiler Projekte\n",
    "2. Erfahrungen in der arbeitsteiligen Gruppenarbeit\n",
    "3. Erheben und Realisieren von Anforderungen\n",
    "4. Durchführen einer Datenauswertung\n",
    "5. Präsentieren der Ergebnisse vor einer Gruppe"
   ]
  },
  {
   "cell_type": "markdown",
   "id": "28da700c-e714-447a-933a-1c67c1e4d169",
   "metadata": {},
   "source": [
    "## Lehrinhalte\n",
    "1. Den Business Case finden\n",
    "2. Datenerfassung und Data Engineering\n",
    "3. Datenmodellierung"
   ]
  },
  {
   "cell_type": "markdown",
   "id": "68929315-1123-471b-80ac-55dbe38d4575",
   "metadata": {},
   "source": [
    "## Ablauf\n",
    "- [ ] Gruppeneinteilung [Weblink](https://bwsyncandshare.kit.edu/s/3Tom6MQMSzNX4SF)\n",
    "- [ ] Kick-off\n",
    "- [ ] Statusmeetings 1-3\n",
    "- [ ] Präsentation, Lessons Learned, Abgabe [ILIAS](https://ilias.h-ka.de/goto.php?target=exc_561643&client_id=HSKA) "
   ]
  },
  {
   "cell_type": "markdown",
   "id": "08a5d9d6-5ea3-4534-ac7f-418ca3dbbf6e",
   "metadata": {},
   "source": [
    "### Kick-off (Projekt-Start)\n",
    "\n",
    "Ziele: Lernziele besprechen. Erwartungen klarstellen. Durchführung besprechen."
   ]
  },
  {
   "cell_type": "markdown",
   "id": "99ac9d8d-cd6f-4e4e-aaf7-3c7bc5d5dd38",
   "metadata": {},
   "source": [
    "### Statusmeetings (Sprint-Reviews)\n",
    "\n",
    "Ziel: Es geht hauptsächlich um die Art und Weise der Zusammenarbeit, um Herausforderungen und Verbesserungsmöglichkeiten.\n",
    "\n",
    "__Leitfragen:__\n",
    "- Dinge, die gut gelungen sind.\n",
    "- Dinge, die weniger gut gelaufen sind.\n",
    "- Dinge, die man direkt stoppen sollte.\n",
    "- Aspekte, die man ausprobieren könnte."
   ]
  },
  {
   "cell_type": "markdown",
   "id": "0ddc70c6-3c59-425f-8263-79ca535a1962",
   "metadata": {},
   "source": [
    "### Lessons Learned (Projekt-Review)\n",
    "\n",
    "Ziele: Gewonnene Erkenntnisse für die Beurteilung der Arbeitsergebnisse festhalten.\n",
    "\n",
    "Vorbereitung: Die Gruppe setzt sich zusammen, um wertvolle Erfahrungen zu identifizieren, sie zu analysieren und aus ihnen zu lernen.\n",
    "\n",
    "__Leitfragen:__\n",
    "- Was waren die angenehmsten Dinge?\n",
    "- Welches Problem bzw. welche Probleme sind aufgetreten?\n",
    "- Wie wurde mit Problemen und Unklarheiten umgegangen?\n",
    "- Welche Lösung wurde verwendet?\n",
    "- Welche Probleme konnten, nach eigenem Ermessen, besonders gut gelöst werden?\n",
    "- Welche Ergebnisse der Datenauswertung waren überraschend?\n",
    "- Welche Erkenntnisse konnten durch die Datenauswertung gewonnen werden?\n",
    "- Welche ihrer Erwartungen an die Erkenntnisse der Datenauswertung weichen ab?\n",
    "- Wie bewerten Sie selbst ihre Ergebnisse?\n",
    "- Welche Erwartung an die Hausarbeit wurde nicht erfüllt?"
   ]
  },
  {
   "cell_type": "markdown",
   "id": "a0786cf7-b241-4f10-a7af-08eb0a07b7f7",
   "metadata": {},
   "source": [
    "## Aufgabenstellung\n",
    "\n",
    "- Führen Sie eine Datenauswertung durch.\n",
    "- Orientieren Sie sich am vereinfachten Beispiel aus der Vorlesung.\n",
    "- Dokumentieren Sie Ihre Arbeit in diesem Dokument.\n",
    "- Verwenden Sie die [Markdown](https://www.markdownguide.org/cheat-sheet/)-Syntax um Ihre Arbeit leserlich zu gestalten."
   ]
  },
  {
   "cell_type": "markdown",
   "id": "54d1fd8f-461e-4d1a-bcee-c81d92ed488e",
   "metadata": {},
   "source": [
    "## Abschlusspräsentation\n",
    "\n",
    "- Termine: siehe Gruppeneinteilung [Weblink](https://bwsyncandshare.kit.edu/s/3Tom6MQMSzNX4SF)\n",
    "- Dauer: ca. 15 min\n",
    "- Ablauf:\n",
    "    - Gruppe präsentiert ihre Datenauswertung vor anderen Kommilitonen\n",
    "    - Wiedergabe der vorbereiteten Lessons Learned\n",
    "    - Upload aller Dokumete in ILIAS als Zip-Archiv  `DSCB230_SS22_Gruppenname.zip`\n"
   ]
  },
  {
   "cell_type": "markdown",
   "id": "17e6b63f-2f04-4b47-bd44-dd5ea2832fd8",
   "metadata": {},
   "source": [
    "## Bewertung\n",
    "\n",
    "Maximal 4,5 Punkte (5% der Klausurpunkte) als Startwert für die Klausur. Die Punkte erhalten alle Gruppenmitglieder. Sollte eine differenzierte Bewertung gewünscht sein, sprechen Sie bitte den Dozent an."
   ]
  },
  {
   "cell_type": "markdown",
   "id": "e7c74b74",
   "metadata": {},
   "source": [
    "## Lehrinhalt"
   ]
  },
  {
   "cell_type": "markdown",
   "id": "0fb6a7b4",
   "metadata": {},
   "source": [
    "#### Was stellen unsere Daten überhaupt da? / Worüber handeln sie?\n",
    "In dem bekannten Computerspiel [CS-GO](https://de.wikipedia.org/wiki/Counter-Strike:_Global_Offensive) gibt es die Möglichkeit verschiedene *Skins* also Tarnungen für in dem Spiel vorhandenen Gegenstände durch verschiedene Arten mit Echtgeld zu erwerben (Kisten, Tausch oder Kauf). Die Arten spielen zu Erklärung jedoch keine Rolle es ist nur wichtig zu wissen, dass man Skins für Echtgeld erwerben kann und diese auf digitalen Märkten gehandelt werden, wobei es sich um Preise von ein paar Cent bis sechstellige Beträge handeln kann.\n",
    "\n",
    "Nun bieten Drittanbieter wie <https://app.lootbear.com/> an diese Skins leihen bzw. verleihen zu können, also nur Besitzer, nicht Eigentümer eines Skins zu werden. Das Leihen funktioniert dabei über ein Abo-System vergleichbar zu Netflix, also man muss ein Abonnement auf der Website haben um Skins leihen bzw. verleihen zu können wobei nochmal zwischen zwei Abo-Stufen unterschieden wird die erste ermöglicht es einem Skins bis zu einem Wert von 400 € zu leihen und die zweite auch teurer. Skins werden aufgrund zeitlicher Begrenzungen zum Tauschen im Spiel direkt immer für eine Woche verliehen, der Umsatz, der für die Vermieter entsteht, wird jedoch in den Daten täglich gezeigt. \n",
    "\n",
    "\n",
    "Daher kommen auch unsere Daten, Tim vermietet schon seit über einem Jahr Skins über eine Website, diese Website ermöglicht es auch Daten über die vermieteten Skins einzusehen wie Datum und Umsatz. Da Tim nachvollziehbarerweise diesen Prozess optimieren will, kamen wir auf die Idee dies zu unserem Projekt gemacht."
   ]
  },
  {
   "cell_type": "markdown",
   "id": "a1b94492",
   "metadata": {},
   "source": [
    "### Der Business Case"
   ]
  },
  {
   "cell_type": "markdown",
   "id": "d94faa02",
   "metadata": {},
   "source": [
    "#### Gewinnsteigerung \n",
    "- Welches Item rentiert sich am meisten bzw.\n",
    "- Welches Item hat die geringste Amortisationszeit (refenanzierung) unter/über 400€?\n",
    "- Welche 5-10 Items erziehlen den höchsten Umsatz innerhalb eines Quartals?\n",
    "\n"
   ]
  },
  {
   "cell_type": "markdown",
   "id": "3111b843",
   "metadata": {},
   "source": [
    "### Statusmeetings (Sprint-Reviews)\n",
    "- Kordinierung zu Dritt ist nicht so einfach \n",
    "- Wie man die Daten am besten darstellt ist komplizierter als Gedacht\n",
    "- Viele Ideen die man noch Aussortieren muss \n"
   ]
  },
  {
   "cell_type": "markdown",
   "id": "39fe6d05",
   "metadata": {},
   "source": [
    "### Datenerfassung und Data Engineering"
   ]
  },
  {
   "cell_type": "code",
   "execution_count": 8,
   "id": "1470ab65",
   "metadata": {},
   "outputs": [
    {
     "data": {
      "text/html": [
       "<div>\n",
       "<style scoped>\n",
       "    .dataframe tbody tr th:only-of-type {\n",
       "        vertical-align: middle;\n",
       "    }\n",
       "\n",
       "    .dataframe tbody tr th {\n",
       "        vertical-align: top;\n",
       "    }\n",
       "\n",
       "    .dataframe thead th {\n",
       "        text-align: right;\n",
       "    }\n",
       "</style>\n",
       "<table border=\"1\" class=\"dataframe\">\n",
       "  <thead>\n",
       "    <tr style=\"text-align: right;\">\n",
       "      <th></th>\n",
       "      <th>ID</th>\n",
       "      <th>Date</th>\n",
       "      <th>Item</th>\n",
       "      <th>Revenue</th>\n",
       "    </tr>\n",
       "  </thead>\n",
       "  <tbody>\n",
       "    <tr>\n",
       "      <th>1</th>\n",
       "      <td>15930277</td>\n",
       "      <td>13/4/2022 6:50 PM</td>\n",
       "      <td>★ Bayonet | Freehand (Field-Tested)</td>\n",
       "      <td>0.24</td>\n",
       "    </tr>\n",
       "    <tr>\n",
       "      <th>140</th>\n",
       "      <td>15848348</td>\n",
       "      <td>30/3/2022 7:42 AM</td>\n",
       "      <td>★ Bayonet | Freehand (Field-Tested)</td>\n",
       "      <td>0.22</td>\n",
       "    </tr>\n",
       "    <tr>\n",
       "      <th>152</th>\n",
       "      <td>15842759</td>\n",
       "      <td>29/3/2022 7:42 AM</td>\n",
       "      <td>★ Bayonet | Freehand (Field-Tested)</td>\n",
       "      <td>0.22</td>\n",
       "    </tr>\n",
       "    <tr>\n",
       "      <th>163</th>\n",
       "      <td>15837143</td>\n",
       "      <td>28/3/2022 7:42 AM</td>\n",
       "      <td>★ Bayonet | Freehand (Field-Tested)</td>\n",
       "      <td>0.23</td>\n",
       "    </tr>\n",
       "    <tr>\n",
       "      <th>171</th>\n",
       "      <td>15831550</td>\n",
       "      <td>27/3/2022 7:42 AM</td>\n",
       "      <td>★ Bayonet | Freehand (Field-Tested)</td>\n",
       "      <td>0.23</td>\n",
       "    </tr>\n",
       "    <tr>\n",
       "      <th>...</th>\n",
       "      <td>...</td>\n",
       "      <td>...</td>\n",
       "      <td>...</td>\n",
       "      <td>...</td>\n",
       "    </tr>\n",
       "    <tr>\n",
       "      <th>2761</th>\n",
       "      <td>14032671</td>\n",
       "      <td>13/5/2021 8:46 PM</td>\n",
       "      <td>★ Bayonet | Freehand (Field-Tested)</td>\n",
       "      <td>0.23</td>\n",
       "    </tr>\n",
       "    <tr>\n",
       "      <th>2762</th>\n",
       "      <td>14026542</td>\n",
       "      <td>12/5/2021 8:46 PM</td>\n",
       "      <td>★ Bayonet | Freehand (Field-Tested)</td>\n",
       "      <td>0.23</td>\n",
       "    </tr>\n",
       "    <tr>\n",
       "      <th>2763</th>\n",
       "      <td>14020461</td>\n",
       "      <td>11/5/2021 8:46 PM</td>\n",
       "      <td>★ Bayonet | Freehand (Field-Tested)</td>\n",
       "      <td>0.23</td>\n",
       "    </tr>\n",
       "    <tr>\n",
       "      <th>2764</th>\n",
       "      <td>14014381</td>\n",
       "      <td>10/5/2021 8:46 PM</td>\n",
       "      <td>★ Bayonet | Freehand (Field-Tested)</td>\n",
       "      <td>0.21</td>\n",
       "    </tr>\n",
       "    <tr>\n",
       "      <th>2766</th>\n",
       "      <td>14008352</td>\n",
       "      <td>9/5/2021 8:46 PM</td>\n",
       "      <td>★ Bayonet | Freehand (Field-Tested)</td>\n",
       "      <td>0.21</td>\n",
       "    </tr>\n",
       "  </tbody>\n",
       "</table>\n",
       "<p>160 rows × 4 columns</p>\n",
       "</div>"
      ],
      "text/plain": [
       "            ID               Date                                 Item  \\\n",
       "1     15930277  13/4/2022 6:50 PM  ★ Bayonet | Freehand (Field-Tested)   \n",
       "140   15848348  30/3/2022 7:42 AM  ★ Bayonet | Freehand (Field-Tested)   \n",
       "152   15842759  29/3/2022 7:42 AM  ★ Bayonet | Freehand (Field-Tested)   \n",
       "163   15837143  28/3/2022 7:42 AM  ★ Bayonet | Freehand (Field-Tested)   \n",
       "171   15831550  27/3/2022 7:42 AM  ★ Bayonet | Freehand (Field-Tested)   \n",
       "...        ...                ...                                  ...   \n",
       "2761  14032671  13/5/2021 8:46 PM  ★ Bayonet | Freehand (Field-Tested)   \n",
       "2762  14026542  12/5/2021 8:46 PM  ★ Bayonet | Freehand (Field-Tested)   \n",
       "2763  14020461  11/5/2021 8:46 PM  ★ Bayonet | Freehand (Field-Tested)   \n",
       "2764  14014381  10/5/2021 8:46 PM  ★ Bayonet | Freehand (Field-Tested)   \n",
       "2766  14008352   9/5/2021 8:46 PM  ★ Bayonet | Freehand (Field-Tested)   \n",
       "\n",
       "      Revenue  \n",
       "1        0.24  \n",
       "140      0.22  \n",
       "152      0.22  \n",
       "163      0.23  \n",
       "171      0.23  \n",
       "...       ...  \n",
       "2761     0.23  \n",
       "2762     0.23  \n",
       "2763     0.23  \n",
       "2764     0.21  \n",
       "2766     0.21  \n",
       "\n",
       "[160 rows x 4 columns]"
      ]
     },
     "execution_count": 8,
     "metadata": {},
     "output_type": "execute_result"
    }
   ],
   "source": [
    "df = pd.read_csv(\"rent_revenue_data.csv\")\n",
    "df[df[\"Item\"] == \"★ Bayonet | Freehand (Field-Tested)\"]\n"
   ]
  }
 ],
 "metadata": {
  "interpreter": {
   "hash": "dcae1c5eebbeb26e8adbd1f1df404ff210629e5ad8dae11eceb6593fa9fa15c8"
  },
  "kernelspec": {
   "display_name": "Python 3.9.7 ('DSC')",
   "language": "python",
   "name": "python3"
  },
  "language_info": {
   "codemirror_mode": {
    "name": "ipython",
    "version": 3
   },
   "file_extension": ".py",
   "mimetype": "text/x-python",
   "name": "python",
   "nbconvert_exporter": "python",
   "pygments_lexer": "ipython3",
   "version": "3.9.7"
  },
  "toc-autonumbering": false,
  "toc-showmarkdowntxt": false
 },
 "nbformat": 4,
 "nbformat_minor": 5
}
