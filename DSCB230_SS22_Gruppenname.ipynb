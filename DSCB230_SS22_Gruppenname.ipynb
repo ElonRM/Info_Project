{
 "cells": [
  {
   "cell_type": "markdown",
   "id": "48b3f54c-3ed1-407e-ab25-5fbf84acdc1b",
   "metadata": {},
   "source": [
    "__DSCB230 Sommersemster 2022__\n",
    "# Hausarbeit - Datenauswertung am Beispiel _eines Business-Anwendungsfalls_"
   ]
  },
  {
   "cell_type": "markdown",
   "id": "bf37b86b-b9d7-4081-a53a-afa65ac560d3",
   "metadata": {},
   "source": [
    "Gruppe | Studierende 1 | Studierende 2 | Studierende 3 | Studierende 4 |\n",
    "------ | ------ | ------ | ------ | ------ |\n",
    "`Alpha` | `Vorname Name` | `Vorname Name` | `Vorname Name` | `Vorname Name` |"
   ]
  },
  {
   "cell_type": "markdown",
   "id": "d486d432-bd92-485e-8f25-9d6f19208480",
   "metadata": {},
   "source": [
    "## Lernziele\n",
    "1. Einblick in die Arbeitsweise agiler Projekte\n",
    "2. Erfahrungen in der arbeitsteiligen Gruppenarbeit\n",
    "3. Erheben und Realisieren von Anforderungen\n",
    "4. Durchführen einer Datenauswertung\n",
    "5. Präsentieren der Ergebnisse vor einer Gruppe"
   ]
  },
  {
   "cell_type": "markdown",
   "id": "28da700c-e714-447a-933a-1c67c1e4d169",
   "metadata": {},
   "source": [
    "## Lehrinhalte\n",
    "1. Den Business Case finden\n",
    "2. Datenerfassung und Data Engineering\n",
    "3. Datenmodellierung"
   ]
  },
  {
   "cell_type": "markdown",
   "id": "68929315-1123-471b-80ac-55dbe38d4575",
   "metadata": {},
   "source": [
    "## Ablauf\n",
    "- [ ] Gruppeneinteilung [Weblink](https://bwsyncandshare.kit.edu/s/3Tom6MQMSzNX4SF)\n",
    "- [ ] Kick-off\n",
    "- [ ] Statusmeetings 1-3\n",
    "- [ ] Präsentation, Lessons Learned, Abgabe [ILIAS](https://ilias.h-ka.de/goto.php?target=exc_561643&client_id=HSKA) "
   ]
  },
  {
   "cell_type": "markdown",
   "id": "08a5d9d6-5ea3-4534-ac7f-418ca3dbbf6e",
   "metadata": {},
   "source": [
    "### Kick-off (Projekt-Start)\n",
    "\n",
    "Ziele: Lernziele besprechen. Erwartungen klarstellen. Durchführung besprechen."
   ]
  },
  {
   "cell_type": "markdown",
   "id": "99ac9d8d-cd6f-4e4e-aaf7-3c7bc5d5dd38",
   "metadata": {},
   "source": [
    "### Statusmeetings (Sprint-Reviews)\n",
    "\n",
    "Ziel: Es geht hauptsächlich um die Art und Weise der Zusammenarbeit, um Herausforderungen und Verbesserungsmöglichkeiten.\n",
    "\n",
    "__Leitfragen:__\n",
    "- Dinge, die gut gelungen sind.\n",
    "- Dinge, die weniger gut gelaufen sind.\n",
    "- Dinge, die man direkt stoppen sollte.\n",
    "- Aspekte, die man ausprobieren könnte."
   ]
  },
  {
   "cell_type": "markdown",
   "id": "0ddc70c6-3c59-425f-8263-79ca535a1962",
   "metadata": {},
   "source": [
    "### Lessons Learned (Projekt-Review)\n",
    "\n",
    "Ziele: Gewonnene Erkenntnisse für die Beurteilung der Arbeitsergebnisse festhalten.\n",
    "\n",
    "Vorbereitung: Die Gruppe setzt sich zusammen, um wertvolle Erfahrungen zu identifizieren, sie zu analysieren und aus ihnen zu lernen.\n",
    "\n",
    "__Leitfragen:__\n",
    "- Was waren die angenehmsten Dinge?\n",
    "- Welches Problem bzw. welche Probleme sind aufgetreten?\n",
    "- Wie wurde mit Problemen und Unklarheiten umgegangen?\n",
    "- Welche Lösung wurde verwendet?\n",
    "- Welche Probleme konnten, nach eigenem Ermessen, besonders gut gelöst werden?\n",
    "- Welche Ergebnisse der Datenauswertung waren überraschend?\n",
    "- Welche Erkenntnisse konnten durch die Datenauswertung gewonnen werden?\n",
    "- Welche ihrer Erwartungen an die Erkenntnisse der Datenauswertung weichen ab?\n",
    "- Wie bewerten Sie selbst ihre Ergebnisse?\n",
    "- Welche Erwartung an die Hausarbeit wurde nicht erfüllt?"
   ]
  },
  {
   "cell_type": "markdown",
   "id": "a0786cf7-b241-4f10-a7af-08eb0a07b7f7",
   "metadata": {},
   "source": [
    "## Aufgabenstellung\n",
    "\n",
    "- Führen Sie eine Datenauswertung durch.\n",
    "- Orientieren Sie sich am vereinfachten Beispiel aus der Vorlesung.\n",
    "- Dokumentieren Sie Ihre Arbeit in diesem Dokument.\n",
    "- Verwenden Sie die [Markdown](https://www.markdownguide.org/cheat-sheet/)-Syntax um Ihre Arbeit leserlich zu gestalten."
   ]
  },
  {
   "cell_type": "markdown",
   "id": "54d1fd8f-461e-4d1a-bcee-c81d92ed488e",
   "metadata": {},
   "source": [
    "## Abschlusspräsentation\n",
    "\n",
    "- Termine: siehe Gruppeneinteilung [Weblink](https://bwsyncandshare.kit.edu/s/3Tom6MQMSzNX4SF)\n",
    "- Dauer: ca. 15 min\n",
    "- Ablauf:\n",
    "    - Gruppe präsentiert ihre Datenauswertung vor anderen Kommilitonen\n",
    "    - Wiedergabe der vorbereiteten Lessons Learned\n",
    "    - Upload aller Dokumete in ILIAS als Zip-Archiv  `DSCB230_SS22_Gruppenname.zip`\n"
   ]
  },
  {
   "cell_type": "markdown",
   "id": "17e6b63f-2f04-4b47-bd44-dd5ea2832fd8",
   "metadata": {},
   "source": [
    "## Bewertung\n",
    "\n",
    "Maximal 4,5 Punkte (5% der Klausurpunkte) als Startwert für die Klausur. Die Punkte erhalten alle Gruppenmitglieder. Sollte eine differenzierte Bewertung gewünscht sein, sprechen Sie bitte den Dozent an."
   ]
  },
  {
   "cell_type": "markdown",
   "id": "e7c74b74",
   "metadata": {},
   "source": [
    "## Lehrinhalt"
   ]
  },
  {
   "cell_type": "markdown",
   "id": "0fb6a7b4",
   "metadata": {},
   "source": [
    "#### Was stellen unsere Daten überhaupt da? / Worüber handeln sie?\n",
    "In dem bekannten Computerspiel [CS-GO](https://de.wikipedia.org/wiki/Counter-Strike:_Global_Offensive) gibt es die Möglichkeit verschiedene *Skins* also Tarnungen für in dem Spiel vorhandenen Gegenstände durch verschiedene Arten mit Echtgeld zu erwerben (Kisten, Tausch oder Kauf). Die Arten spielen zu Erklärung jedoch keine Rolle es ist nur wichtig zu wissen, dass man Skins für Echtgeld erwerben kann und diese auf digitalen Märkten gehandelt werden, wobei es sich um Preise von ein paar Cent bis sechstellige Beträge handeln kann.\n",
    "\n",
    "Nun bieten Drittanbieter wie <https://app.lootbear.com/> an diese Skins leihen bzw. verleihen zu können, also nur Besitzer, nicht Eigentümer eines Skins zu werden. Das Leihen funktioniert dabei über ein Abo-System vergleichbar zu Netflix, also man muss ein Abonnement auf der Website haben um Skins leihen bzw. verleihen zu können wobei nochmal zwischen zwei Abo-Stufen unterschieden wird die erste ermöglicht es einem Skins bis zu einem Wert von 400 € zu leihen und die zweite auch teurer. Skins werden aufgrund zeitlicher Begrenzungen zum Tauschen im Spiel direkt immer für eine Woche verliehen, der Umsatz, der für die Vermieter entsteht, wird jedoch in den Daten täglich gezeigt. \n",
    "\n",
    "\n",
    "Daher kommen auch unsere Daten, Tim vermietet schon seit über einem Jahr Skins über eine Website, diese Website ermöglicht es auch Daten über die vermieteten Skins einzusehen wie Datum und Umsatz. Da Tim nachvollziehbarerweise diesen Prozess optimieren will, kamen wir auf die Idee dies zu unserem Projekt gemacht."
   ]
  },
  {
   "cell_type": "markdown",
   "id": "a1b94492",
   "metadata": {},
   "source": [
    "### Der Business Case"
   ]
  },
  {
   "cell_type": "markdown",
   "id": "d94faa02",
   "metadata": {},
   "source": [
    "#### Gewinnsteigerung \n",
    "- Welches Item rentiert sich am meisten bzw.\n",
    "- Welches Item hat die geringste Amortisationszeit (refenanzierung) unter/über 400€?\n",
    "- Welche 5-10 Items erziehlen den höchsten Umsatz innerhalb eines Quartals?\n",
    "\n"
   ]
  },
  {
   "cell_type": "markdown",
   "id": "3111b843",
   "metadata": {},
   "source": [
    "### Statusmeetings (Sprint-Reviews)\n",
    "- Kordinierung zu Dritt ist nicht so einfach \n",
    "- Wie man die Daten am besten darstellt ist komplizierter als Gedacht\n",
    "- Viele Ideen die man noch Aussortieren muss \n",
    "\n",
    "\n",
    "- Manche Werte sind schwer einzukalkulieren wie möglicher Verkaufswert nach \"misslungenem\" Verleih (Annahme zu einem bestimmten Prozentsatz(a) kriegt man einen bestimmten Prozentsatz(b) des Kaufwertes wieder zurück, wobei a und b von vielen Verschiedenen Faktoren abhängig sind) \n",
    "- Werte von digitalen Gegenständen sind an sich schwer zu bemessen, da es rein von der Nachfrage bzw. den Nachfragern und ihrer Kaufwilligkeit abhängig ist gepaart mit der Seltenheit\n",
    "    1. Beispiel: Ist ein Skin wenn eine Person für ihn 1000€ bezahlt auch 1000€ Wert. Für diese Person ja aber für andere Personen nicht unbedingt. Bei Nachfrage durch mehrere Personen entsteht ein Marktwert an dem wir uns immer Orientieren werden, aber theorethisch müsste man je nach eigenem Wert des Items kalkulieren, da wenn man den Skin in der Zukunft für sich behalten möchte alle Erlöse durch Verleih reine Gewinne wären, weil kein Verbrauch stattfindet und somit das Item in seinem individuellen nichts verloren hat unabhängig vom Marktwert. \n"
   ]
  },
  {
   "cell_type": "markdown",
   "id": "39fe6d05",
   "metadata": {},
   "source": [
    "### Datenerfassung und Data Engineering"
   ]
  },
  {
   "cell_type": "code",
   "execution_count": 14,
   "id": "1470ab65",
   "metadata": {},
   "outputs": [
    {
     "data": {
      "text/plain": [
       "ID                                                2576673016\n",
       "Date       25/4/2022 6:52 PM24/4/2022 6:52 PM23/4/2022 6:...\n",
       "Item       ★ Bayonet | Freehand (Field-Tested)★ Bayonet |...\n",
       "Revenue                                                37.21\n",
       "dtype: object"
      ]
     },
     "execution_count": 14,
     "metadata": {},
     "output_type": "execute_result"
    }
   ],
   "source": [
    "import pandas as pd\n",
    "\n",
    "df = pd.read_csv(\"rent_revenue_data.csv\")\n",
    "df[df[\"Item\"] == \"★ Bayonet | Freehand (Field-Tested)\"].sum()\n",
    "\n"
   ]
  },
  {
   "cell_type": "code",
   "execution_count": 15,
   "id": "89683fed",
   "metadata": {},
   "outputs": [
    {
     "data": {
      "text/html": [
       "<div>\n",
       "<style scoped>\n",
       "    .dataframe tbody tr th:only-of-type {\n",
       "        vertical-align: middle;\n",
       "    }\n",
       "\n",
       "    .dataframe tbody tr th {\n",
       "        vertical-align: top;\n",
       "    }\n",
       "\n",
       "    .dataframe thead th {\n",
       "        text-align: right;\n",
       "    }\n",
       "</style>\n",
       "<table border=\"1\" class=\"dataframe\">\n",
       "  <thead>\n",
       "    <tr style=\"text-align: right;\">\n",
       "      <th></th>\n",
       "      <th>ID</th>\n",
       "      <th>Revenue</th>\n",
       "    </tr>\n",
       "    <tr>\n",
       "      <th>Item</th>\n",
       "      <th></th>\n",
       "      <th></th>\n",
       "    </tr>\n",
       "  </thead>\n",
       "  <tbody>\n",
       "    <tr>\n",
       "      <th>AK-47 | The Empress (Well-Worn)</th>\n",
       "      <td>702862017</td>\n",
       "      <td>2.26</td>\n",
       "    </tr>\n",
       "    <tr>\n",
       "      <th>AWP | Containment Breach (Field-Tested)</th>\n",
       "      <td>3477889847</td>\n",
       "      <td>11.82</td>\n",
       "    </tr>\n",
       "    <tr>\n",
       "      <th>M4A4 | The Emperor (Field-Tested)</th>\n",
       "      <td>433619767</td>\n",
       "      <td>1.11</td>\n",
       "    </tr>\n",
       "    <tr>\n",
       "      <th>MAC-10 | Stalker (Minimal Wear)</th>\n",
       "      <td>108074274</td>\n",
       "      <td>0.16</td>\n",
       "    </tr>\n",
       "    <tr>\n",
       "      <th>MP7 | Fade (Factory New)</th>\n",
       "      <td>163087039</td>\n",
       "      <td>0.12</td>\n",
       "    </tr>\n",
       "    <tr>\n",
       "      <th>StatTrak™ AWP | Fever Dream (Minimal Wear)</th>\n",
       "      <td>344284190</td>\n",
       "      <td>0.58</td>\n",
       "    </tr>\n",
       "    <tr>\n",
       "      <th>USP-S | Kill Confirmed (Field-Tested)</th>\n",
       "      <td>598555971</td>\n",
       "      <td>2.70</td>\n",
       "    </tr>\n",
       "    <tr>\n",
       "      <th>USP-S | Neo-Noir (Field-Tested)</th>\n",
       "      <td>227174952</td>\n",
       "      <td>0.38</td>\n",
       "    </tr>\n",
       "    <tr>\n",
       "      <th>★ Bayonet | Black Laminate (Minimal Wear)</th>\n",
       "      <td>1907209615</td>\n",
       "      <td>31.14</td>\n",
       "    </tr>\n",
       "    <tr>\n",
       "      <th>★ Bayonet | Freehand (Field-Tested)</th>\n",
       "      <td>2576673016</td>\n",
       "      <td>37.21</td>\n",
       "    </tr>\n",
       "    <tr>\n",
       "      <th>★ Huntsman Knife | Marble Fade (Factory New)</th>\n",
       "      <td>387890300</td>\n",
       "      <td>6.65</td>\n",
       "    </tr>\n",
       "    <tr>\n",
       "      <th>★ Karambit | Autotronic (Field-Tested)</th>\n",
       "      <td>1647110732</td>\n",
       "      <td>74.93</td>\n",
       "    </tr>\n",
       "    <tr>\n",
       "      <th>★ Karambit | Boreal Forest (Field-Tested)</th>\n",
       "      <td>1986069465</td>\n",
       "      <td>33.13</td>\n",
       "    </tr>\n",
       "    <tr>\n",
       "      <th>★ Karambit | Forest DDPAT (Field-Tested)</th>\n",
       "      <td>2333945595</td>\n",
       "      <td>37.73</td>\n",
       "    </tr>\n",
       "    <tr>\n",
       "      <th>★ Karambit | Gamma Doppler (Factory New)</th>\n",
       "      <td>3921267807</td>\n",
       "      <td>220.73</td>\n",
       "    </tr>\n",
       "    <tr>\n",
       "      <th>★ Karambit | Lore (Field-Tested)</th>\n",
       "      <td>2982576968</td>\n",
       "      <td>114.35</td>\n",
       "    </tr>\n",
       "    <tr>\n",
       "      <th>★ Karambit | Scorched (Minimal Wear)</th>\n",
       "      <td>1419072721</td>\n",
       "      <td>24.09</td>\n",
       "    </tr>\n",
       "    <tr>\n",
       "      <th>★ Karambit | Urban Masked (Field-Tested)</th>\n",
       "      <td>2144137579</td>\n",
       "      <td>33.84</td>\n",
       "    </tr>\n",
       "    <tr>\n",
       "      <th>★ M9 Bayonet | Damascus Steel (Field-Tested)</th>\n",
       "      <td>3041764588</td>\n",
       "      <td>53.93</td>\n",
       "    </tr>\n",
       "    <tr>\n",
       "      <th>★ M9 Bayonet | Lore (Field-Tested)</th>\n",
       "      <td>2153277350</td>\n",
       "      <td>94.30</td>\n",
       "    </tr>\n",
       "    <tr>\n",
       "      <th>★ Skeleton Knife | Forest DDPAT (Minimal Wear)</th>\n",
       "      <td>1902040574</td>\n",
       "      <td>29.13</td>\n",
       "    </tr>\n",
       "    <tr>\n",
       "      <th>★ Skeleton Knife | Slaughter (Minimal Wear)</th>\n",
       "      <td>1841294108</td>\n",
       "      <td>88.31</td>\n",
       "    </tr>\n",
       "    <tr>\n",
       "      <th>★ Skeleton Knife | Urban Masked (Field-Tested)</th>\n",
       "      <td>1982609728</td>\n",
       "      <td>30.14</td>\n",
       "    </tr>\n",
       "    <tr>\n",
       "      <th>★ StatTrak™ Karambit | Lore (Field-Tested)</th>\n",
       "      <td>2440352179</td>\n",
       "      <td>97.42</td>\n",
       "    </tr>\n",
       "    <tr>\n",
       "      <th>★ StatTrak™ M9 Bayonet | Stained (Minimal Wear)</th>\n",
       "      <td>2014125846</td>\n",
       "      <td>33.54</td>\n",
       "    </tr>\n",
       "    <tr>\n",
       "      <th>★ Stiletto Knife | Doppler (Factory New)</th>\n",
       "      <td>4774446081</td>\n",
       "      <td>98.07</td>\n",
       "    </tr>\n",
       "    <tr>\n",
       "      <th>★ Stiletto Knife | Slaughter (Factory New)</th>\n",
       "      <td>113364914</td>\n",
       "      <td>1.85</td>\n",
       "    </tr>\n",
       "    <tr>\n",
       "      <th>★ Talon Knife | Blue Steel (Minimal Wear)</th>\n",
       "      <td>1392593521</td>\n",
       "      <td>25.07</td>\n",
       "    </tr>\n",
       "    <tr>\n",
       "      <th>★ Talon Knife | Damascus Steel (Minimal Wear)</th>\n",
       "      <td>1831129057</td>\n",
       "      <td>32.80</td>\n",
       "    </tr>\n",
       "    <tr>\n",
       "      <th>★ Talon Knife | Marble Fade (Factory New)</th>\n",
       "      <td>217216167</td>\n",
       "      <td>10.28</td>\n",
       "    </tr>\n",
       "    <tr>\n",
       "      <th>★ Talon Knife | Stained (Minimal Wear)</th>\n",
       "      <td>1556922999</td>\n",
       "      <td>25.14</td>\n",
       "    </tr>\n",
       "  </tbody>\n",
       "</table>\n",
       "</div>"
      ],
      "text/plain": [
       "                                                         ID  Revenue\n",
       "Item                                                                \n",
       "AK-47 | The Empress (Well-Worn)                   702862017     2.26\n",
       "AWP | Containment Breach (Field-Tested)          3477889847    11.82\n",
       "M4A4 | The Emperor (Field-Tested)                 433619767     1.11\n",
       "MAC-10 | Stalker (Minimal Wear)                   108074274     0.16\n",
       "MP7 | Fade (Factory New)                          163087039     0.12\n",
       "StatTrak™ AWP | Fever Dream (Minimal Wear)        344284190     0.58\n",
       "USP-S | Kill Confirmed (Field-Tested)             598555971     2.70\n",
       "USP-S | Neo-Noir (Field-Tested)                   227174952     0.38\n",
       "★ Bayonet | Black Laminate (Minimal Wear)        1907209615    31.14\n",
       "★ Bayonet | Freehand (Field-Tested)              2576673016    37.21\n",
       "★ Huntsman Knife | Marble Fade (Factory New)      387890300     6.65\n",
       "★ Karambit | Autotronic (Field-Tested)           1647110732    74.93\n",
       "★ Karambit | Boreal Forest (Field-Tested)        1986069465    33.13\n",
       "★ Karambit | Forest DDPAT (Field-Tested)         2333945595    37.73\n",
       "★ Karambit | Gamma Doppler (Factory New)         3921267807   220.73\n",
       "★ Karambit | Lore (Field-Tested)                 2982576968   114.35\n",
       "★ Karambit | Scorched (Minimal Wear)             1419072721    24.09\n",
       "★ Karambit | Urban Masked (Field-Tested)         2144137579    33.84\n",
       "★ M9 Bayonet | Damascus Steel (Field-Tested)     3041764588    53.93\n",
       "★ M9 Bayonet | Lore (Field-Tested)               2153277350    94.30\n",
       "★ Skeleton Knife | Forest DDPAT (Minimal Wear)   1902040574    29.13\n",
       "★ Skeleton Knife | Slaughter (Minimal Wear)      1841294108    88.31\n",
       "★ Skeleton Knife | Urban Masked (Field-Tested)   1982609728    30.14\n",
       "★ StatTrak™ Karambit | Lore (Field-Tested)       2440352179    97.42\n",
       "★ StatTrak™ M9 Bayonet | Stained (Minimal Wear)  2014125846    33.54\n",
       "★ Stiletto Knife | Doppler (Factory New)         4774446081    98.07\n",
       "★ Stiletto Knife | Slaughter (Factory New)        113364914     1.85\n",
       "★ Talon Knife | Blue Steel (Minimal Wear)        1392593521    25.07\n",
       "★ Talon Knife | Damascus Steel (Minimal Wear)    1831129057    32.80\n",
       "★ Talon Knife | Marble Fade (Factory New)         217216167    10.28\n",
       "★ Talon Knife | Stained (Minimal Wear)           1556922999    25.14"
      ]
     },
     "execution_count": 15,
     "metadata": {},
     "output_type": "execute_result"
    }
   ],
   "source": [
    "summe = df.groupby([\"Item\"]).sum()"
   ]
  }
 ],
 "metadata": {
  "interpreter": {
   "hash": "dcae1c5eebbeb26e8adbd1f1df404ff210629e5ad8dae11eceb6593fa9fa15c8"
  },
  "kernelspec": {
   "display_name": "Python 3.9.7 ('DSC')",
   "language": "python",
   "name": "python3"
  },
  "language_info": {
   "codemirror_mode": {
    "name": "ipython",
    "version": 3
   },
   "file_extension": ".py",
   "mimetype": "text/x-python",
   "name": "python",
   "nbconvert_exporter": "python",
   "pygments_lexer": "ipython3",
   "version": "3.9.7"
  },
  "toc-autonumbering": false,
  "toc-showmarkdowntxt": false
 },
 "nbformat": 4,
 "nbformat_minor": 5
}
