{
 "cells": [
  {
   "cell_type": "markdown",
   "id": "48b3f54c-3ed1-407e-ab25-5fbf84acdc1b",
   "metadata": {},
   "source": [
    "__DSCB230 Sommersemster 2022__\n",
    "# Hausarbeit - Datenauswertung am Beispiel _eines Business-Anwendungsfalls_"
   ]
  },
  {
   "cell_type": "markdown",
   "id": "bf37b86b-b9d7-4081-a53a-afa65ac560d3",
   "metadata": {},
   "source": [
    "Gruppe | Studierende 1 | Studierende 2 | Studierende 3 |\n",
    "------ | ------ | ------ | ------ |\n",
    "`Alpha` | `Tim Ehmann` | `Yannic Jahnke` | `Wladimir Schairer` |"
   ]
  },
  {
   "cell_type": "markdown",
   "id": "d486d432-bd92-485e-8f25-9d6f19208480",
   "metadata": {},
   "source": [
    "## Lernziele\n",
    "1. Einblick in die Arbeitsweise agiler Projekte\n",
    "2. Erfahrungen in der arbeitsteiligen Gruppenarbeit\n",
    "3. Erheben und Realisieren von Anforderungen\n",
    "4. Durchführen einer Datenauswertung\n",
    "5. Präsentieren der Ergebnisse vor einer Gruppe"
   ]
  },
  {
   "cell_type": "markdown",
   "id": "28da700c-e714-447a-933a-1c67c1e4d169",
   "metadata": {},
   "source": [
    "## Lehrinhalte\n",
    "1. Den Business Case finden\n",
    "2. Datenerfassung und Data Engineering\n",
    "3. Datenmodellierung"
   ]
  },
  {
   "cell_type": "markdown",
   "id": "68929315-1123-471b-80ac-55dbe38d4575",
   "metadata": {},
   "source": [
    "## Ablauf\n",
    "- [ ] Gruppeneinteilung [Weblink](https://bwsyncandshare.kit.edu/s/3Tom6MQMSzNX4SF)\n",
    "- [ ] Kick-off\n",
    "- [ ] Statusmeetings 1-3\n",
    "- [ ] Präsentation, Lessons Learned, Abgabe [ILIAS](https://ilias.h-ka.de/goto.php?target=exc_561643&client_id=HSKA) "
   ]
  },
  {
   "cell_type": "markdown",
   "id": "08a5d9d6-5ea3-4534-ac7f-418ca3dbbf6e",
   "metadata": {},
   "source": [
    "### Kick-off (Projekt-Start)\n",
    "\n",
    "Ziele: Lernziele besprechen. Erwartungen klarstellen. Durchführung besprechen."
   ]
  },
  {
   "cell_type": "markdown",
   "id": "99ac9d8d-cd6f-4e4e-aaf7-3c7bc5d5dd38",
   "metadata": {},
   "source": [
    "### Statusmeetings (Sprint-Reviews)\n",
    "\n",
    "Ziel: Es geht hauptsächlich um die Art und Weise der Zusammenarbeit, um Herausforderungen und Verbesserungsmöglichkeiten.\n",
    "\n",
    "__Leitfragen:__\n",
    "- Dinge, die gut gelungen sind.\n",
    "- Dinge, die weniger gut gelaufen sind.\n",
    "- Dinge, die man direkt stoppen sollte.\n",
    "- Aspekte, die man ausprobieren könnte."
   ]
  },
  {
   "cell_type": "markdown",
   "id": "0ddc70c6-3c59-425f-8263-79ca535a1962",
   "metadata": {},
   "source": [
    "### Lessons Learned (Projekt-Review)\n",
    "\n",
    "Ziele: Gewonnene Erkenntnisse für die Beurteilung der Arbeitsergebnisse festhalten.\n",
    "\n",
    "Vorbereitung: Die Gruppe setzt sich zusammen, um wertvolle Erfahrungen zu identifizieren, sie zu analysieren und aus ihnen zu lernen.\n",
    "\n",
    "__Leitfragen:__\n",
    "- Was waren die angenehmsten Dinge?\n",
    "- Welches Problem bzw. welche Probleme sind aufgetreten?\n",
    "- Wie wurde mit Problemen und Unklarheiten umgegangen?\n",
    "- Welche Lösung wurde verwendet?\n",
    "- Welche Probleme konnten, nach eigenem Ermessen, besonders gut gelöst werden?\n",
    "- Welche Ergebnisse der Datenauswertung waren überraschend?\n",
    "- Welche Erkenntnisse konnten durch die Datenauswertung gewonnen werden?\n",
    "- Welche ihrer Erwartungen an die Erkenntnisse der Datenauswertung weichen ab?\n",
    "- Wie bewerten Sie selbst ihre Ergebnisse?\n",
    "- Welche Erwartung an die Hausarbeit wurde nicht erfüllt?"
   ]
  },
  {
   "cell_type": "markdown",
   "id": "a0786cf7-b241-4f10-a7af-08eb0a07b7f7",
   "metadata": {},
   "source": [
    "## Aufgabenstellung\n",
    "\n",
    "- Führen Sie eine Datenauswertung durch.\n",
    "- Orientieren Sie sich am vereinfachten Beispiel aus der Vorlesung.\n",
    "- Dokumentieren Sie Ihre Arbeit in diesem Dokument.\n",
    "- Verwenden Sie die [Markdown](https://www.markdownguide.org/cheat-sheet/)-Syntax um Ihre Arbeit leserlich zu gestalten."
   ]
  },
  {
   "cell_type": "markdown",
   "id": "54d1fd8f-461e-4d1a-bcee-c81d92ed488e",
   "metadata": {},
   "source": [
    "## Abschlusspräsentation\n",
    "\n",
    "- Termine: siehe Gruppeneinteilung [Weblink](https://bwsyncandshare.kit.edu/s/3Tom6MQMSzNX4SF)\n",
    "- Dauer: ca. 15 min\n",
    "- Ablauf:\n",
    "    - Gruppe präsentiert ihre Datenauswertung vor anderen Kommilitonen\n",
    "    - Wiedergabe der vorbereiteten Lessons Learned\n",
    "    - Upload aller Dokumete in ILIAS als Zip-Archiv  `DSCB230_SS22_Gruppenname.zip`\n"
   ]
  },
  {
   "cell_type": "markdown",
   "id": "17e6b63f-2f04-4b47-bd44-dd5ea2832fd8",
   "metadata": {},
   "source": [
    "## Bewertung\n",
    "\n",
    "Maximal 4,5 Punkte (5% der Klausurpunkte) als Startwert für die Klausur. Die Punkte erhalten alle Gruppenmitglieder. Sollte eine differenzierte Bewertung gewünscht sein, sprechen Sie bitte den Dozent an."
   ]
  },
  {
   "cell_type": "markdown",
   "id": "e7c74b74",
   "metadata": {},
   "source": [
    "## Der Business Case\n"
   ]
  },
  {
   "cell_type": "markdown",
   "id": "0fb6a7b4",
   "metadata": {},
   "source": [
    "#### Was stellen unsere Daten überhaupt da? \n",
    "In dem bekannten Computerspiel [CS-GO](https://de.wikipedia.org/wiki/Counter-Strike:_Global_Offensive) gibt es die Möglichkeit verschiedene *Skins* also Tarnungen für in dem Spiel vorhandenen Gegenstände durch verschiedene Arten mit Echtgeld zu erwerben (Kisten, Tausch oder Kauf). Die Arten spielen zu Erklärung jedoch keine Rolle es ist nur wichtig zu wissen, dass man *Skins* für Echtgeld erwerben kann und diese auf digitalen Märkten gehandelt werden, wobei es sich um Preise von ein paar Cent bis sechstellige Beträge handeln kann.\n",
    "\n",
    "![Bild](Picture/steamworkshop_webupload_previewfile_307449127_preview.png)\n",
    "\n",
    "Nun bieten Drittanbieter wie <https://app.lootbear.com/> an diese *Skins* leihen bzw. verleihen zu können, also nur Besitzer, nicht Eigentümer eines *Skins* zu werden. Das Leihen funktioniert dabei über ein Abo-System vergleichbar zu Netflix, also man muss ein Abonnement auf der Website haben um *Skins* leihen bzw. verleihen zu können wobei nochmal zwischen zwei Abo-Stufen unterschieden wird die erste ermöglicht es einem *Skins* bis zu einem Wert von 400 € zu leihen und die zweite auch teurer. *Skins* werden aufgrund zeitlicher Begrenzungen zum Tauschen im Spiel direkt immer für eine Woche verliehen, der Umsatz, der für die Vermieter entsteht, wird jedoch in den Daten täglich gezeigt. \n",
    "\n",
    "\n",
    "Daher kommen auch unsere Daten, Tim vermietet schon seit über einem Jahr *Skins* über eine Website, diese Website ermöglicht es auch Daten über die vermieteten *Skins* einzusehen wie Datum und Umsatz. Da Tim nachvollziehbarerweise diesen Prozess optimieren will, kamen wir auf die Idee dies zu unserem Projekt gemacht."
   ]
  },
  {
   "cell_type": "markdown",
   "id": "dbb92f98",
   "metadata": {},
   "source": [
    "### Datenerfassung "
   ]
  },
  {
   "cell_type": "markdown",
   "id": "adffaff4",
   "metadata": {},
   "source": [
    "Die Datenerfassung erfolgte wie schon angedeutet über eine Website die, es einem ermöglich auf gewisse Daten der eigenen Verkäufe zuzugreifen. \n",
    "\n",
    "![Bild](Picture/lootbear.png)\n",
    "\n",
    "*Probleme* nur auf bestimmte Daten und immer nur auf die letzten 5 Verleihe auf einmal. Benötigt also für die davorigen 5 Verleihe immer ein Weiterklicken. \n",
    "*Lösung* die \"Website\" anfragen ob sie alle Daten die sie zu der eigenen Person speichert herausgibt --> leider ohne Erfolg.\n",
    "*Lösung 2* ein Selenium bot der die Daten ausliehst und in eine CSV Datei schreibt.\n",
    "\n",
    "Die Einkaufsdaten der Items mussten wir von Hand \"einholen\", dafür haben wir den Kauftag des Items mit dem damaligen Marktpreis abgegglichen."
   ]
  },
  {
   "cell_type": "markdown",
   "id": "d94faa02",
   "metadata": {},
   "source": [
    "### Gewinnsteigerung bzw. lohnt sich die Investition überhaupt?\n",
    "- Einkaufspreis im Verhältnis zur Einnahme - Ist teuer = gut?\n",
    "- Welche Items machen den höchsten Umsatz?\n",
    "- Welche Items haben die geringste Amortisationszeit?\n",
    "<!-- - Welche 5-10 Items erziehlen den höchsten Umsatz innerhalb eines Quartals? -->\n",
    "<!-- - Wie schneiden die Skins (mit Vermietung) im Vergleich zu einer Alternative ab?   -->"
   ]
  },
  {
   "cell_type": "markdown",
   "id": "ebf0c8b8",
   "metadata": {},
   "source": [
    "## Revenue und Kaufpreis im Vergleich \n",
    "![Bild](Picture/Rev_kaufpreis.png)"
   ]
  },
  {
   "cell_type": "markdown",
   "id": "3033be27",
   "metadata": {},
   "source": [
    "## Amortisationszeit\n",
    "![Bild](Picture/amort_pro_quartal.png)"
   ]
  },
  {
   "cell_type": "markdown",
   "id": "eab07b08",
   "metadata": {},
   "source": [
    "## Skinpreise schwanken\n",
    "![Bild](Picture/steam_preis_schwankungen.png)"
   ]
  },
  {
   "cell_type": "markdown",
   "id": "39fe6d05",
   "metadata": {},
   "source": [
    "### Data Engineering"
   ]
  },
  {
   "cell_type": "markdown",
   "id": "9aba5df2",
   "metadata": {},
   "source": []
  },
  {
   "cell_type": "markdown",
   "id": "42b48cc6",
   "metadata": {},
   "source": [
    "### Lessons Learned (Projekt-Review)\n",
    "\n",
    "Ziele: Gewonnene Erkenntnisse für die Beurteilung der Arbeitsergebnisse festhalten.\n",
    "\n",
    "Vorbereitung: Die Gruppe setzt sich zusammen, um wertvolle Erfahrungen zu identifizieren, sie zu analysieren und aus ihnen zu lernen.\n",
    "\n",
    "__Leitfragen:__\n",
    "* Was waren die angenehmsten Dinge?\n",
    "    * Das Thema und das damit verbundene Interesse mit den Daten zu Arbeiten und Erfahrungen zu gewinnen \n",
    "***\n",
    "* Welches Problem bzw. welche Probleme sind aufgetreten?\n",
    "    * Die Koordinierung von drei Personen mit unterschiedlichen Tagesabläufen (eher eine Herausforderung)\n",
    "    * Die Arbeitsaufteilung da es kein genaues Ziel wie bei z.B. einer Abagbe gab \n",
    "    * Das man kein Verständnis über den Hintergrund der Daten vorraussetzen kann sondern erst erklären muss um was es sich handelt\n",
    "    * Das viel mehr beachtet werden muss bei der Analyse der Daten z.B. die Marktschwankungen\n",
    "    * Das man Tableau nicht im Notebook darstellen kann \n",
    "*** \n",
    "       \n",
    "        \n",
    "* Wie wurde mit Problemen und Unklarheiten umgegangen?\n",
    "    * Darüber Gesprochen und oder Mruzek/Stackoverflow gefragt \n",
    "***\n",
    "* Welche Lösung wurde verwendet?\n",
    "    * So gut es geht aufeinander Abgestimmt über Chats und Audiocalls \n",
    "    * Jeder hat auf eine Art für sich gearbeitet und dann die anderen über Gewonnene Erkenntnisse informiert \n",
    "    * Durch das Hineinversetzen in eine \"unwissende\" Person und die Sprint-Reviews so gut es geht in einem nicht zu komplexen Ramen die Thematik zu erklären \n",
    "    * Nicht jeden möglichen Einflussfaktor komme was wolle mit ein zu beziehen sondern uns auf die wichtigsten zu Konzentrieren\n",
    "    * Screenshots \n",
    "***\n",
    "* Welche Probleme konnten, nach eigenem Ermessen, besonders gut gelöst werden?\n",
    "    * Die Koordinierung \n",
    "***\n",
    "* Welche Ergebnisse der Datenauswertung waren überraschend?\n",
    "    * Manche Skins sind nicht so beliebt wie wir erwartet hätten\n",
    "***\n",
    "* Welche Erkenntnisse konnten durch die Datenauswertung gewonnen werden?\n",
    "    * Welche Skins sich am meisten rentieren\n",
    "    * Das die Marktschwankungen entscheidend dafür sind ob es sich rentiert, welche aber sehr \n",
    "***\n",
    "* Welche ihrer Erwartungen an die Erkenntnisse der Datenauswertung weichen ab?\n",
    "    * Das es keine Eindeutige antwort gibt, es spielen so viele Faktoren eine Rolle ob bzw. welcher Skin sich wie sehr rentiert\n",
    "***\n",
    "* Wie bewerten Sie selbst ihre Ergebnisse?\n",
    "  * Interessant und Unerwartet\n",
    "  * Stolz auf das outperformen des S&P 500\n",
    "  * 4.5 Punkte\n",
    "***\n",
    "* Welche Erwartung an die Hausarbeit wurde nicht erfüllt?\n",
    "    *  eine Analyse aller Skins wäre interessant gewesen. (hunderte, vlt sogar tausende Skins und jeder skin kostet Geld leider viel zu teuer)\n",
    "    * Eine Eindeutigere Antwort auf die Frage was sich rentiert, wir können jetzt sagen was sich vermutlich mehr lohnt aber eine sichere Prognose können wir nicht stellen \n",
    "***    \n"
   ]
  },
  {
   "cell_type": "code",
   "execution_count": 11,
   "id": "121a94db",
   "metadata": {},
   "outputs": [
    {
     "ename": "ImportError",
     "evalue": "cannot import name 'fig1' from 'LB_Rent_Tracker.csgo_vs_snp500_visualisation' (/Users/timehmann/Documents/Programmieren/VSCode/Python/SmallProjects/Info_Project/LB_Rent_Tracker/csgo_vs_snp500_visualisation.py)",
     "output_type": "error",
     "traceback": [
      "\u001b[0;31m---------------------------------------------------------------------------\u001b[0m",
      "\u001b[0;31mImportError\u001b[0m                               Traceback (most recent call last)",
      "\u001b[0;32m/var/folders/27/rw3093250gvf841xt9hmzs580000gn/T/ipykernel_39196/685067660.py\u001b[0m in \u001b[0;36m<module>\u001b[0;34m\u001b[0m\n\u001b[0;32m----> 1\u001b[0;31m \u001b[0;32mfrom\u001b[0m \u001b[0mLB_Rent_Tracker\u001b[0m\u001b[0;34m.\u001b[0m\u001b[0mcsgo_vs_snp500_visualisation\u001b[0m \u001b[0;32mimport\u001b[0m \u001b[0mfig1\u001b[0m\u001b[0;34m,\u001b[0m \u001b[0mfig2\u001b[0m\u001b[0;34m,\u001b[0m \u001b[0mfig3\u001b[0m\u001b[0;34m\u001b[0m\u001b[0;34m\u001b[0m\u001b[0m\n\u001b[0m\u001b[1;32m      2\u001b[0m \u001b[0;34m\u001b[0m\u001b[0m\n\u001b[1;32m      3\u001b[0m \u001b[0mfig1\u001b[0m\u001b[0;34m.\u001b[0m\u001b[0mshow\u001b[0m\u001b[0;34m(\u001b[0m\u001b[0;34m)\u001b[0m\u001b[0;34m\u001b[0m\u001b[0;34m\u001b[0m\u001b[0m\n",
      "\u001b[0;31mImportError\u001b[0m: cannot import name 'fig1' from 'LB_Rent_Tracker.csgo_vs_snp500_visualisation' (/Users/timehmann/Documents/Programmieren/VSCode/Python/SmallProjects/Info_Project/LB_Rent_Tracker/csgo_vs_snp500_visualisation.py)"
     ]
    }
   ],
   "source": [
    "from LB_Rent_Tracker.csgo_vs_snp500_visualisation import fig1, fig2, fig3\n",
    "\n",
    "fig1.show()\n"
   ]
  }
 ],
 "metadata": {
  "kernelspec": {
   "display_name": "Python 3.9.7 64-bit",
   "language": "python",
   "name": "python3"
  },
  "language_info": {
   "codemirror_mode": {
    "name": "ipython",
    "version": 3
   },
   "file_extension": ".py",
   "mimetype": "text/x-python",
   "name": "python",
   "nbconvert_exporter": "python",
   "pygments_lexer": "ipython3",
   "version": "3.9.7"
  },
  "toc-autonumbering": false,
  "toc-showmarkdowntxt": false,
  "vscode": {
   "interpreter": {
    "hash": "b0fa6594d8f4cbf19f97940f81e996739fb7646882a419484c72d19e05852a7e"
   }
  }
 },
 "nbformat": 4,
 "nbformat_minor": 5
}
